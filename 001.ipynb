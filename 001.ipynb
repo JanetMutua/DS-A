{
 "cells": [
  {
   "cell_type": "code",
   "execution_count": 2,
   "id": "c5d330cd",
   "metadata": {},
   "outputs": [],
   "source": [
    "from jovian.pythondsa import evaluate_test_case"
   ]
  },
  {
   "cell_type": "code",
   "execution_count": 3,
   "id": "dcfd9cb3",
   "metadata": {},
   "outputs": [],
   "source": [
    "def locate_card(cards, query):\n",
    "    pass"
   ]
  },
  {
   "cell_type": "code",
   "execution_count": 5,
   "id": "1596aa6e",
   "metadata": {},
   "outputs": [],
   "source": [
    "test = {\n",
    "    'input':{\n",
    "        'cards': [20, 17,15,12,11,7,3,2],\n",
    "        'query':7\n",
    "    },\n",
    "    'output': 5\n",
    "}"
   ]
  },
  {
   "cell_type": "code",
   "execution_count": 37,
   "id": "94d4a65a",
   "metadata": {},
   "outputs": [],
   "source": [
    "def locate_card(cards, query):\n",
    "    \n",
    "    #initialize a position variable\n",
    "    position = 0\n",
    "    \n",
    "    #setup the loop for repetition\n",
    "    while True:\n",
    "        \n",
    "        #check if the element in position is equal to query\n",
    "        if cards[position] == query:\n",
    "            \n",
    "            #if true we output the elements position\n",
    "            return position\n",
    "        \n",
    "        #else we increment the position to check the next element\n",
    "        position += 1\n",
    "        \n",
    "        #check if the list has reached the end\n",
    "        if position == len(cards):\n",
    "            \n",
    "            #if yes return a default value\n",
    "            return -1"
   ]
  },
  {
   "cell_type": "code",
   "execution_count": 23,
   "id": "96af2930",
   "metadata": {},
   "outputs": [
    {
     "data": {
      "text/plain": [
       "True"
      ]
     },
     "execution_count": 23,
     "metadata": {},
     "output_type": "execute_result"
    }
   ],
   "source": [
    "locate_card(**test['input']) == test['output']"
   ]
  },
  {
   "cell_type": "code",
   "execution_count": 12,
   "id": "fc6f4b7c",
   "metadata": {},
   "outputs": [
    {
     "data": {
      "text/plain": [
       "{'input': {'cards': [20, 17, 15, 12, 11, 7, 3, 2], 'query': 7}, 'output': 5}"
      ]
     },
     "execution_count": 12,
     "metadata": {},
     "output_type": "execute_result"
    }
   ],
   "source": [
    "test"
   ]
  },
  {
   "cell_type": "code",
   "execution_count": 20,
   "id": "80a6e43f",
   "metadata": {},
   "outputs": [
    {
     "data": {
      "text/plain": [
       "5"
      ]
     },
     "execution_count": 20,
     "metadata": {},
     "output_type": "execute_result"
    }
   ],
   "source": [
    "result = locate_card(test['input']['cards'], test['input']['query'])\n",
    "result"
   ]
  },
  {
   "cell_type": "code",
   "execution_count": 21,
   "id": "433db0f4",
   "metadata": {},
   "outputs": [
    {
     "data": {
      "text/plain": [
       "True"
      ]
     },
     "execution_count": 21,
     "metadata": {},
     "output_type": "execute_result"
    }
   ],
   "source": [
    "result == test['output']"
   ]
  },
  {
   "cell_type": "code",
   "execution_count": 22,
   "id": "b37cc8f3",
   "metadata": {},
   "outputs": [
    {
     "name": "stdout",
     "output_type": "stream",
     "text": [
      "\n",
      "Input:\n",
      "{'cards': [20, 17, 15, 12, 11, 7, 3, 2], 'query': 7}\n",
      "\n",
      "Expected Output:\n",
      "5\n",
      "\n",
      "\n",
      "Actual Output:\n",
      "5\n",
      "\n",
      "Execution Time:\n",
      "0.012 ms\n",
      "\n",
      "Test Result:\n",
      "\u001b[92mPASSED\u001b[0m\n",
      "\n"
     ]
    },
    {
     "data": {
      "text/plain": [
       "(5, True, 0.012)"
      ]
     },
     "execution_count": 22,
     "metadata": {},
     "output_type": "execute_result"
    }
   ],
   "source": [
    "evaluate_test_bcase(locate_card, test)"
   ]
  },
  {
   "cell_type": "code",
   "execution_count": 25,
   "id": "c2af806f",
   "metadata": {},
   "outputs": [],
   "source": [
    "tests = []"
   ]
  },
  {
   "cell_type": "code",
   "execution_count": 30,
   "id": "f38e94b6",
   "metadata": {},
   "outputs": [],
   "source": [
    "# test case 1, query is in middle of cards list\n",
    "tests.append({\n",
    "    'input':{\n",
    "        'cards': [20, 17,15,12,11,7,3,2],\n",
    "        'query':7\n",
    "    },\n",
    "    'output': 5\n",
    "}) "
   ]
  },
  {
   "cell_type": "code",
   "execution_count": 31,
   "id": "40fb979e",
   "metadata": {},
   "outputs": [],
   "source": [
    "# test case 2 query is first element in cards\n",
    "\n",
    "tests.append({\n",
    "    'input': {\n",
    "        'cards': [7, 5, 3, 2],\n",
    "        'query': 7\n",
    "    },\n",
    "    'output': 0\n",
    "})"
   ]
  },
  {
   "cell_type": "code",
   "execution_count": 32,
   "id": "28a873d1",
   "metadata": {},
   "outputs": [],
   "source": [
    "# test case 3 query is last element in cards\n",
    "\n",
    "tests.append({\n",
    "    'input': {\n",
    "        'cards': [17, 15, 13, 7],\n",
    "        'query': 7\n",
    "    },\n",
    "    'output': 3\n",
    "})"
   ]
  },
  {
   "cell_type": "code",
   "execution_count": 33,
   "id": "3aaa9123",
   "metadata": {},
   "outputs": [],
   "source": [
    "# test case 4 only one element in cards\n",
    "\n",
    "tests.append({\n",
    "    'input': {\n",
    "        'cards': [7],\n",
    "        'query': 7\n",
    "    },\n",
    "    'output': 0\n",
    "})"
   ]
  },
  {
   "cell_type": "code",
   "execution_count": 34,
   "id": "24ab38ab",
   "metadata": {},
   "outputs": [],
   "source": [
    "# test case 5 no element in cards\n",
    "\n",
    "tests.append({\n",
    "    'input': {\n",
    "        'cards': [],\n",
    "        'query': 7\n",
    "    },\n",
    "    'output': -1\n",
    "})"
   ]
  },
  {
   "cell_type": "code",
   "execution_count": 35,
   "id": "61981690",
   "metadata": {},
   "outputs": [
    {
     "data": {
      "text/plain": [
       "[{'input': {'cards': [20, 17, 15, 12, 11, 7, 3, 2], 'query': 7}, 'output': 5},\n",
       " {'input': {'cards': [20, 17, 15, 12, 11, 7, 3, 2], 'query': 7}, 'output': 5},\n",
       " {'input': {'cards': [7, 5, 3, 2], 'query': 7}, 'output': 0},\n",
       " {'input': {'cards': [17, 15, 13, 7], 'query': 7}, 'output': 3},\n",
       " {'input': {'cards': [7], 'query': 7}, 'output': 0},\n",
       " {'input': {'cards': [], 'query': 7}, 'output': -1}]"
      ]
     },
     "execution_count": 35,
     "metadata": {},
     "output_type": "execute_result"
    }
   ],
   "source": [
    "tests"
   ]
  },
  {
   "cell_type": "code",
   "execution_count": 38,
   "id": "88f1b4fe",
   "metadata": {},
   "outputs": [
    {
     "name": "stdout",
     "output_type": "stream",
     "text": [
      "\n",
      "Input:\n",
      "{'cards': [20, 17, 15, 12, 11, 7, 3, 2], 'query': 7}\n",
      "\n",
      "Expected Output:\n",
      "5\n",
      "\n",
      "\n",
      "Actual Output:\n",
      "5\n",
      "\n",
      "Execution Time:\n",
      "0.013 ms\n",
      "\n",
      "Test Result:\n",
      "\u001b[92mPASSED\u001b[0m\n",
      "\n",
      "\n",
      "Input:\n",
      "{'cards': [20, 17, 15, 12, 11, 7, 3, 2], 'query': 7}\n",
      "\n",
      "Expected Output:\n",
      "5\n",
      "\n",
      "\n",
      "Actual Output:\n",
      "5\n",
      "\n",
      "Execution Time:\n",
      "0.007 ms\n",
      "\n",
      "Test Result:\n",
      "\u001b[92mPASSED\u001b[0m\n",
      "\n",
      "\n",
      "Input:\n",
      "{'cards': [7, 5, 3, 2], 'query': 7}\n",
      "\n",
      "Expected Output:\n",
      "0\n",
      "\n",
      "\n",
      "Actual Output:\n",
      "0\n",
      "\n",
      "Execution Time:\n",
      "0.003 ms\n",
      "\n",
      "Test Result:\n",
      "\u001b[92mPASSED\u001b[0m\n",
      "\n",
      "\n",
      "Input:\n",
      "{'cards': [17, 15, 13, 7], 'query': 7}\n",
      "\n",
      "Expected Output:\n",
      "3\n",
      "\n",
      "\n",
      "Actual Output:\n",
      "3\n",
      "\n",
      "Execution Time:\n",
      "0.005 ms\n",
      "\n",
      "Test Result:\n",
      "\u001b[92mPASSED\u001b[0m\n",
      "\n",
      "\n",
      "Input:\n",
      "{'cards': [7], 'query': 7}\n",
      "\n",
      "Expected Output:\n",
      "0\n",
      "\n",
      "\n",
      "Actual Output:\n",
      "0\n",
      "\n",
      "Execution Time:\n",
      "0.003 ms\n",
      "\n",
      "Test Result:\n",
      "\u001b[92mPASSED\u001b[0m\n",
      "\n",
      "\n",
      "Input:\n",
      "{'cards': [], 'query': 7}\n",
      "\n",
      "Expected Output:\n",
      "-1\n",
      "\n"
     ]
    },
    {
     "ename": "IndexError",
     "evalue": "list index out of range",
     "output_type": "error",
     "traceback": [
      "\u001b[0;31m---------------------------------------------------------------------------\u001b[0m",
      "\u001b[0;31mIndexError\u001b[0m                                Traceback (most recent call last)",
      "Input \u001b[0;32mIn [38]\u001b[0m, in \u001b[0;36m<cell line: 1>\u001b[0;34m()\u001b[0m\n\u001b[1;32m      1\u001b[0m \u001b[38;5;28;01mfor\u001b[39;00m test \u001b[38;5;129;01min\u001b[39;00m tests:\n\u001b[0;32m----> 2\u001b[0m     \u001b[43mevaluate_test_case\u001b[49m\u001b[43m(\u001b[49m\u001b[43mlocate_card\u001b[49m\u001b[43m,\u001b[49m\u001b[43m \u001b[49m\u001b[43mtest\u001b[49m\u001b[43m)\u001b[49m\n",
      "File \u001b[0;32m~/.local/lib/python3.10/site-packages/jovian/pythondsa/__init__.py:65\u001b[0m, in \u001b[0;36mevaluate_test_case\u001b[0;34m(function, test_case, display)\u001b[0m\n\u001b[1;32m     62\u001b[0m     _show_test_case(test_case)\n\u001b[1;32m     64\u001b[0m start \u001b[38;5;241m=\u001b[39m timer()\n\u001b[0;32m---> 65\u001b[0m actual_output \u001b[38;5;241m=\u001b[39m \u001b[43mfunction\u001b[49m\u001b[43m(\u001b[49m\u001b[38;5;241;43m*\u001b[39;49m\u001b[38;5;241;43m*\u001b[39;49m\u001b[43minputs\u001b[49m\u001b[43m)\u001b[49m\n\u001b[1;32m     66\u001b[0m end \u001b[38;5;241m=\u001b[39m timer()\n\u001b[1;32m     68\u001b[0m runtime \u001b[38;5;241m=\u001b[39m math\u001b[38;5;241m.\u001b[39mceil((end \u001b[38;5;241m-\u001b[39m start)\u001b[38;5;241m*\u001b[39m\u001b[38;5;241m1e6\u001b[39m)\u001b[38;5;241m/\u001b[39m\u001b[38;5;241m1000\u001b[39m\n",
      "Input \u001b[0;32mIn [37]\u001b[0m, in \u001b[0;36mlocate_card\u001b[0;34m(cards, query)\u001b[0m\n\u001b[1;32m      6\u001b[0m \u001b[38;5;66;03m#setup the loop for repetition\u001b[39;00m\n\u001b[1;32m      7\u001b[0m \u001b[38;5;28;01mwhile\u001b[39;00m \u001b[38;5;28;01mTrue\u001b[39;00m:\n\u001b[1;32m      8\u001b[0m     \n\u001b[1;32m      9\u001b[0m     \u001b[38;5;66;03m#check if the element in position is equal to query\u001b[39;00m\n\u001b[0;32m---> 10\u001b[0m     \u001b[38;5;28;01mif\u001b[39;00m \u001b[43mcards\u001b[49m\u001b[43m[\u001b[49m\u001b[43mposition\u001b[49m\u001b[43m]\u001b[49m \u001b[38;5;241m==\u001b[39m query:\n\u001b[1;32m     11\u001b[0m         \n\u001b[1;32m     12\u001b[0m         \u001b[38;5;66;03m#if true we output the elements position\u001b[39;00m\n\u001b[1;32m     13\u001b[0m         \u001b[38;5;28;01mreturn\u001b[39;00m position\n\u001b[1;32m     15\u001b[0m     \u001b[38;5;66;03m#else we increment the position to check the next element\u001b[39;00m\n",
      "\u001b[0;31mIndexError\u001b[0m: list index out of range"
     ]
    }
   ],
   "source": [
    "for test in tests:\n",
    "    evaluate_test_case(locate_card, test)"
   ]
  },
  {
   "cell_type": "code",
   "execution_count": 42,
   "id": "5bd78725",
   "metadata": {},
   "outputs": [],
   "source": [
    "# ---------------------------------adding print statements for debugging-----------------------------------\n",
    "\n",
    "def locate_card(cards, query):\n",
    "    \n",
    "    #initialize a position variable\n",
    "    position = 0\n",
    "    \n",
    "    print('cards:', cards)\n",
    "    print('query:', query)\n",
    "    \n",
    "    #setup the loop for repetition\n",
    "    while position < len(cards):\n",
    "        \n",
    "        print('position:', position)\n",
    "        \n",
    "        #check if the element in position is equal to query\n",
    "        if cards[position] == query:\n",
    "            \n",
    "            #if true we output the elements position\n",
    "            return position\n",
    "        \n",
    "        #else we increment the position to check the next element\n",
    "        position += 1\n",
    "        \n",
    "        #check if the list has reached the end\n",
    "        if position == len(cards):\n",
    "            \n",
    "            #if yes return a default value\n",
    "            return -1\n",
    "    return -1"
   ]
  },
  {
   "cell_type": "code",
   "execution_count": 43,
   "id": "6b10cea0",
   "metadata": {},
   "outputs": [
    {
     "name": "stdout",
     "output_type": "stream",
     "text": [
      "\n",
      "Input:\n",
      "{'cards': [20, 17, 15, 12, 11, 7, 3, 2], 'query': 7}\n",
      "\n",
      "Expected Output:\n",
      "5\n",
      "\n",
      "cards: [20, 17, 15, 12, 11, 7, 3, 2]\n",
      "query: 7\n",
      "position: 0\n",
      "position: 1\n",
      "position: 2\n",
      "position: 3\n",
      "position: 4\n",
      "position: 5\n",
      "\n",
      "Actual Output:\n",
      "5\n",
      "\n",
      "Execution Time:\n",
      "0.215 ms\n",
      "\n",
      "Test Result:\n",
      "\u001b[92mPASSED\u001b[0m\n",
      "\n",
      "\n",
      "Input:\n",
      "{'cards': [20, 17, 15, 12, 11, 7, 3, 2], 'query': 7}\n",
      "\n",
      "Expected Output:\n",
      "5\n",
      "\n",
      "cards: [20, 17, 15, 12, 11, 7, 3, 2]\n",
      "query: 7\n",
      "position: 0\n",
      "position: 1\n",
      "position: 2\n",
      "position: 3\n",
      "position: 4\n",
      "position: 5\n",
      "\n",
      "Actual Output:\n",
      "5\n",
      "\n",
      "Execution Time:\n",
      "0.2 ms\n",
      "\n",
      "Test Result:\n",
      "\u001b[92mPASSED\u001b[0m\n",
      "\n",
      "\n",
      "Input:\n",
      "{'cards': [7, 5, 3, 2], 'query': 7}\n",
      "\n",
      "Expected Output:\n",
      "0\n",
      "\n",
      "cards: [7, 5, 3, 2]\n",
      "query: 7\n",
      "position: 0\n",
      "\n",
      "Actual Output:\n",
      "0\n",
      "\n",
      "Execution Time:\n",
      "0.077 ms\n",
      "\n",
      "Test Result:\n",
      "\u001b[92mPASSED\u001b[0m\n",
      "\n",
      "\n",
      "Input:\n",
      "{'cards': [17, 15, 13, 7], 'query': 7}\n",
      "\n",
      "Expected Output:\n",
      "3\n",
      "\n",
      "cards: [17, 15, 13, 7]\n",
      "query: 7\n",
      "position: 0\n",
      "position: 1\n",
      "position: 2\n",
      "position: 3\n",
      "\n",
      "Actual Output:\n",
      "3\n",
      "\n",
      "Execution Time:\n",
      "0.148 ms\n",
      "\n",
      "Test Result:\n",
      "\u001b[92mPASSED\u001b[0m\n",
      "\n",
      "\n",
      "Input:\n",
      "{'cards': [7], 'query': 7}\n",
      "\n",
      "Expected Output:\n",
      "0\n",
      "\n",
      "cards: [7]\n",
      "query: 7\n",
      "position: 0\n",
      "\n",
      "Actual Output:\n",
      "0\n",
      "\n",
      "Execution Time:\n",
      "0.075 ms\n",
      "\n",
      "Test Result:\n",
      "\u001b[92mPASSED\u001b[0m\n",
      "\n",
      "\n",
      "Input:\n",
      "{'cards': [], 'query': 7}\n",
      "\n",
      "Expected Output:\n",
      "-1\n",
      "\n",
      "cards: []\n",
      "query: 7\n",
      "\n",
      "Actual Output:\n",
      "-1\n",
      "\n",
      "Execution Time:\n",
      "0.05 ms\n",
      "\n",
      "Test Result:\n",
      "\u001b[92mPASSED\u001b[0m\n",
      "\n"
     ]
    }
   ],
   "source": [
    "for test in tests:\n",
    "    evaluate_test_case(locate_card, test)"
   ]
  },
  {
   "cell_type": "code",
   "execution_count": 45,
   "id": "2dc6d382",
   "metadata": {},
   "outputs": [
    {
     "data": {
      "text/plain": [
       "{'input': {'cards': [], 'query': 7}, 'output': -1}"
      ]
     },
     "execution_count": 45,
     "metadata": {},
     "output_type": "execute_result"
    }
   ],
   "source": [
    "tests[5]"
   ]
  },
  {
   "cell_type": "code",
   "execution_count": 49,
   "id": "fd7d9d95",
   "metadata": {},
   "outputs": [
    {
     "name": "stdout",
     "output_type": "stream",
     "text": [
      "\n",
      "Input:\n",
      "{'cards': [], 'query': 7}\n",
      "\n",
      "Expected Output:\n",
      "-1\n",
      "\n",
      "cards: []\n",
      "query: 7\n",
      "\n",
      "Actual Output:\n",
      "-1\n",
      "\n",
      "Execution Time:\n",
      "0.103 ms\n",
      "\n",
      "Test Result:\n",
      "\u001b[92mPASSED\u001b[0m\n",
      "\n"
     ]
    },
    {
     "data": {
      "text/plain": [
       "(-1, True, 0.103)"
      ]
     },
     "execution_count": 49,
     "metadata": {},
     "output_type": "execute_result"
    }
   ],
   "source": [
    "evaluate_test_case(locate_card, tests[5])"
   ]
  },
  {
   "cell_type": "code",
   "execution_count": null,
   "id": "4fdc9900",
   "metadata": {},
   "outputs": [],
   "source": []
  },
  {
   "cell_type": "code",
   "execution_count": null,
   "id": "3a6294cb",
   "metadata": {},
   "outputs": [],
   "source": []
  },
  {
   "cell_type": "code",
   "execution_count": null,
   "id": "e84db0e9",
   "metadata": {},
   "outputs": [],
   "source": []
  },
  {
   "cell_type": "code",
   "execution_count": null,
   "id": "f3589b6d",
   "metadata": {},
   "outputs": [],
   "source": []
  },
  {
   "cell_type": "code",
   "execution_count": null,
   "id": "c9c7a52b",
   "metadata": {},
   "outputs": [],
   "source": []
  },
  {
   "cell_type": "code",
   "execution_count": null,
   "id": "98bf5f6a",
   "metadata": {},
   "outputs": [],
   "source": []
  }
 ],
 "metadata": {
  "kernelspec": {
   "display_name": "Python 3 (ipykernel)",
   "language": "python",
   "name": "python3"
  },
  "language_info": {
   "codemirror_mode": {
    "name": "ipython",
    "version": 3
   },
   "file_extension": ".py",
   "mimetype": "text/x-python",
   "name": "python",
   "nbconvert_exporter": "python",
   "pygments_lexer": "ipython3",
   "version": "3.10.4"
  }
 },
 "nbformat": 4,
 "nbformat_minor": 5
}
