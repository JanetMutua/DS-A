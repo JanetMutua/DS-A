{
 "cells": [
  {
   "cell_type": "code",
   "execution_count": 21,
   "id": "c5d330cd",
   "metadata": {},
   "outputs": [
    {
     "data": {
      "application/javascript": [
       "if (window.IPython && IPython.notebook.kernel) IPython.notebook.kernel.execute('jovian.utils.jupyter.get_notebook_name_saved = lambda: \"' + IPython.notebook.notebook_name + '\"')"
      ],
      "text/plain": [
       "<IPython.core.display.Javascript object>"
      ]
     },
     "metadata": {},
     "output_type": "display_data"
    }
   ],
   "source": [
    "from jovian.pythondsa import evaluate_test_case"
   ]
  },
  {
   "cell_type": "code",
   "execution_count": 3,
   "id": "dcfd9cb3",
   "metadata": {},
   "outputs": [],
   "source": [
    "def locate_card(cards, query):\n",
    "    pass"
   ]
  },
  {
   "cell_type": "code",
   "execution_count": 5,
   "id": "1596aa6e",
   "metadata": {},
   "outputs": [],
   "source": [
    "test = {\n",
    "    'input':{\n",
    "        'cards': [20, 17,15,12,11,7,3,2],\n",
    "        'query':7\n",
    "    },\n",
    "    'output': 5\n",
    "}"
   ]
  },
  {
   "cell_type": "code",
   "execution_count": 37,
   "id": "94d4a65a",
   "metadata": {},
   "outputs": [],
   "source": [
    "def locate_card(cards, query):\n",
    "    \n",
    "    #initialize a position variable\n",
    "    position = 0\n",
    "    \n",
    "    #setup the loop for repetition\n",
    "    while True:\n",
    "        \n",
    "        #check if the element in position is equal to query\n",
    "        if cards[position] == query:\n",
    "            \n",
    "            #if true we output the elements position\n",
    "            return position\n",
    "        \n",
    "        #else we increment the position to check the next element\n",
    "        position += 1\n",
    "        \n",
    "        #check if the list has reached the end\n",
    "        if position == len(cards):\n",
    "            \n",
    "            #if yes return a default value\n",
    "            return -1"
   ]
  },
  {
   "cell_type": "code",
   "execution_count": 23,
   "id": "96af2930",
   "metadata": {},
   "outputs": [
    {
     "data": {
      "text/plain": [
       "True"
      ]
     },
     "execution_count": 23,
     "metadata": {},
     "output_type": "execute_result"
    }
   ],
   "source": [
    "locate_card(**test['input']) == test['output']"
   ]
  },
  {
   "cell_type": "code",
   "execution_count": 12,
   "id": "fc6f4b7c",
   "metadata": {},
   "outputs": [
    {
     "data": {
      "text/plain": [
       "{'input': {'cards': [20, 17, 15, 12, 11, 7, 3, 2], 'query': 7}, 'output': 5}"
      ]
     },
     "execution_count": 12,
     "metadata": {},
     "output_type": "execute_result"
    }
   ],
   "source": [
    "test"
   ]
  },
  {
   "cell_type": "code",
   "execution_count": 20,
   "id": "80a6e43f",
   "metadata": {},
   "outputs": [
    {
     "data": {
      "text/plain": [
       "5"
      ]
     },
     "execution_count": 20,
     "metadata": {},
     "output_type": "execute_result"
    }
   ],
   "source": [
    "result = locate_card(test['input']['cards'], test['input']['query'])\n",
    "result"
   ]
  },
  {
   "cell_type": "code",
   "execution_count": 21,
   "id": "433db0f4",
   "metadata": {},
   "outputs": [
    {
     "data": {
      "text/plain": [
       "True"
      ]
     },
     "execution_count": 21,
     "metadata": {},
     "output_type": "execute_result"
    }
   ],
   "source": [
    "result == test['output']"
   ]
  },
  {
   "cell_type": "code",
   "execution_count": 22,
   "id": "b37cc8f3",
   "metadata": {},
   "outputs": [
    {
     "name": "stdout",
     "output_type": "stream",
     "text": [
      "\n",
      "Input:\n",
      "{'cards': [20, 17, 15, 12, 11, 7, 3, 2], 'query': 7}\n",
      "\n",
      "Expected Output:\n",
      "5\n",
      "\n",
      "\n",
      "Actual Output:\n",
      "5\n",
      "\n",
      "Execution Time:\n",
      "0.012 ms\n",
      "\n",
      "Test Result:\n",
      "\u001b[92mPASSED\u001b[0m\n",
      "\n"
     ]
    },
    {
     "data": {
      "text/plain": [
       "(5, True, 0.012)"
      ]
     },
     "execution_count": 22,
     "metadata": {},
     "output_type": "execute_result"
    }
   ],
   "source": [
    "evaluate_test_bcase(locate_card, test)"
   ]
  },
  {
   "cell_type": "code",
   "execution_count": 7,
   "id": "c2af806f",
   "metadata": {},
   "outputs": [],
   "source": [
    "tests = []"
   ]
  },
  {
   "cell_type": "code",
   "execution_count": 8,
   "id": "f38e94b6",
   "metadata": {},
   "outputs": [],
   "source": [
    "# test case 1, query is in middle of cards list\n",
    "tests.append({\n",
    "    'input':{\n",
    "        'cards': [20, 17,15,12,11,7,3,2],\n",
    "        'query':7\n",
    "    },\n",
    "    'output': 5\n",
    "}) "
   ]
  },
  {
   "cell_type": "code",
   "execution_count": 9,
   "id": "40fb979e",
   "metadata": {},
   "outputs": [],
   "source": [
    "# test case 2 query is first element in cards\n",
    "\n",
    "tests.append({\n",
    "    'input': {\n",
    "        'cards': [7, 5, 3, 2],\n",
    "        'query': 7\n",
    "    },\n",
    "    'output': 0\n",
    "})"
   ]
  },
  {
   "cell_type": "code",
   "execution_count": 10,
   "id": "28a873d1",
   "metadata": {},
   "outputs": [],
   "source": [
    "# test case 3 query is last element in cards\n",
    "\n",
    "tests.append({\n",
    "    'input': {\n",
    "        'cards': [17, 15, 13, 7],\n",
    "        'query': 7\n",
    "    },\n",
    "    'output': 3\n",
    "})"
   ]
  },
  {
   "cell_type": "code",
   "execution_count": 33,
   "id": "3aaa9123",
   "metadata": {},
   "outputs": [],
   "source": [
    "# test case 4 only one element in cards\n",
    "\n",
    "tests.append({\n",
    "    'input': {\n",
    "        'cards': [7],\n",
    "        'query': 7\n",
    "    },\n",
    "    'output': 0\n",
    "})"
   ]
  },
  {
   "cell_type": "code",
   "execution_count": 11,
   "id": "24ab38ab",
   "metadata": {},
   "outputs": [],
   "source": [
    "# test case 5 no element in cards\n",
    "\n",
    "tests.append({\n",
    "    'input': {\n",
    "        'cards': [],\n",
    "        'query': 7\n",
    "    },\n",
    "    'output': -1\n",
    "})"
   ]
  },
  {
   "cell_type": "code",
   "execution_count": 12,
   "id": "61981690",
   "metadata": {},
   "outputs": [
    {
     "data": {
      "text/plain": [
       "[{'input': {'cards': [20, 17, 15, 12, 11, 7, 3, 2], 'query': 7}, 'output': 5},\n",
       " {'input': {'cards': [7, 5, 3, 2], 'query': 7}, 'output': 0},\n",
       " {'input': {'cards': [17, 15, 13, 7], 'query': 7}, 'output': 3},\n",
       " {'input': {'cards': [], 'query': 7}, 'output': -1}]"
      ]
     },
     "execution_count": 12,
     "metadata": {},
     "output_type": "execute_result"
    }
   ],
   "source": [
    "tests"
   ]
  },
  {
   "cell_type": "code",
   "execution_count": 22,
   "id": "88f1b4fe",
   "metadata": {},
   "outputs": [
    {
     "name": "stdout",
     "output_type": "stream",
     "text": [
      "\n",
      "Input:\n",
      "{'cards': [20, 17, 15, 12, 11, 7, 3, 2], 'query': 7}\n",
      "\n",
      "Expected Output:\n",
      "5\n",
      "\n",
      "['low:', 0, ',high:', 7, ',middle_index:', 3, ',middle_query:', 12]\n",
      "['low:', 4, ',high:', 7, ',middle_index:', 5, ',middle_query:', 7]\n",
      "\n",
      "Actual Output:\n",
      "5\n",
      "\n",
      "Execution Time:\n",
      "0.065 ms\n",
      "\n",
      "Test Result:\n",
      "\u001b[92mPASSED\u001b[0m\n",
      "\n",
      "\n",
      "Input:\n",
      "{'cards': [7, 5, 3, 2], 'query': 7}\n",
      "\n",
      "Expected Output:\n",
      "0\n",
      "\n",
      "['low:', 0, ',high:', 3, ',middle_index:', 1, ',middle_query:', 5]\n",
      "['low:', 0, ',high:', 0, ',middle_index:', 0, ',middle_query:', 7]\n",
      "\n",
      "Actual Output:\n",
      "0\n",
      "\n",
      "Execution Time:\n",
      "0.049 ms\n",
      "\n",
      "Test Result:\n",
      "\u001b[92mPASSED\u001b[0m\n",
      "\n",
      "\n",
      "Input:\n",
      "{'cards': [17, 15, 13, 7], 'query': 7}\n",
      "\n",
      "Expected Output:\n",
      "3\n",
      "\n",
      "['low:', 0, ',high:', 3, ',middle_index:', 1, ',middle_query:', 15]\n",
      "['low:', 2, ',high:', 3, ',middle_index:', 2, ',middle_query:', 13]\n",
      "['low:', 3, ',high:', 3, ',middle_index:', 3, ',middle_query:', 7]\n",
      "\n",
      "Actual Output:\n",
      "3\n",
      "\n",
      "Execution Time:\n",
      "0.064 ms\n",
      "\n",
      "Test Result:\n",
      "\u001b[92mPASSED\u001b[0m\n",
      "\n",
      "\n",
      "Input:\n",
      "{'cards': [], 'query': 7}\n",
      "\n",
      "Expected Output:\n",
      "-1\n",
      "\n",
      "\n",
      "Actual Output:\n",
      "-1\n",
      "\n",
      "Execution Time:\n",
      "0.004 ms\n",
      "\n",
      "Test Result:\n",
      "\u001b[92mPASSED\u001b[0m\n",
      "\n"
     ]
    }
   ],
   "source": [
    "for test in tests:\n",
    "    evaluate_test_case(locate_card, test)"
   ]
  },
  {
   "cell_type": "code",
   "execution_count": 23,
   "id": "5bd78725",
   "metadata": {},
   "outputs": [],
   "source": [
    "# ---------------------------------adding print statements for debugging-----------------------------------\n",
    "\n",
    "def locate_card(cards, query):\n",
    "    \n",
    "    #initialize a position variable\n",
    "    position = 0\n",
    "    \n",
    "    print('cards:', cards)\n",
    "    print('query:', query)\n",
    "    \n",
    "    #setup the loop for repetition\n",
    "    while position < len(cards):\n",
    "        \n",
    "        print('position:', position)\n",
    "        \n",
    "        #check if the element in position is equal to query\n",
    "        if cards[position] == query:\n",
    "            \n",
    "            #if true we output the elements position\n",
    "            return position\n",
    "        \n",
    "        #else we increment the position to check the next element\n",
    "        position += 1\n",
    "        \n",
    "        #check if the list has reached the end\n",
    "        if position == len(cards):\n",
    "            \n",
    "            #if yes return a default value\n",
    "            return -1\n",
    "    return -1"
   ]
  },
  {
   "cell_type": "code",
   "execution_count": 24,
   "id": "6b10cea0",
   "metadata": {},
   "outputs": [
    {
     "name": "stdout",
     "output_type": "stream",
     "text": [
      "\n",
      "Input:\n",
      "{'cards': [20, 17, 15, 12, 11, 7, 3, 2], 'query': 7}\n",
      "\n",
      "Expected Output:\n",
      "5\n",
      "\n",
      "cards: [20, 17, 15, 12, 11, 7, 3, 2]\n",
      "query: 7\n",
      "position: 0\n",
      "position: 1\n",
      "position: 2\n",
      "position: 3\n",
      "position: 4\n",
      "position: 5\n",
      "\n",
      "Actual Output:\n",
      "5\n",
      "\n",
      "Execution Time:\n",
      "0.219 ms\n",
      "\n",
      "Test Result:\n",
      "\u001b[92mPASSED\u001b[0m\n",
      "\n",
      "\n",
      "Input:\n",
      "{'cards': [7, 5, 3, 2], 'query': 7}\n",
      "\n",
      "Expected Output:\n",
      "0\n",
      "\n",
      "cards: [7, 5, 3, 2]\n",
      "query: 7\n",
      "position: 0\n",
      "\n",
      "Actual Output:\n",
      "0\n",
      "\n",
      "Execution Time:\n",
      "0.079 ms\n",
      "\n",
      "Test Result:\n",
      "\u001b[92mPASSED\u001b[0m\n",
      "\n",
      "\n",
      "Input:\n",
      "{'cards': [17, 15, 13, 7], 'query': 7}\n",
      "\n",
      "Expected Output:\n",
      "3\n",
      "\n",
      "cards: [17, 15, 13, 7]\n",
      "query: 7\n",
      "position: 0\n",
      "position: 1\n",
      "position: 2\n",
      "position: 3\n",
      "\n",
      "Actual Output:\n",
      "3\n",
      "\n",
      "Execution Time:\n",
      "0.15 ms\n",
      "\n",
      "Test Result:\n",
      "\u001b[92mPASSED\u001b[0m\n",
      "\n",
      "\n",
      "Input:\n",
      "{'cards': [], 'query': 7}\n",
      "\n",
      "Expected Output:\n",
      "-1\n",
      "\n",
      "cards: []\n",
      "query: 7\n",
      "\n",
      "Actual Output:\n",
      "-1\n",
      "\n",
      "Execution Time:\n",
      "0.049 ms\n",
      "\n",
      "Test Result:\n",
      "\u001b[92mPASSED\u001b[0m\n",
      "\n"
     ]
    }
   ],
   "source": [
    "for test in tests:\n",
    "    evaluate_test_case(locate_card, test)"
   ]
  },
  {
   "cell_type": "code",
   "execution_count": 25,
   "id": "2dc6d382",
   "metadata": {},
   "outputs": [
    {
     "ename": "IndexError",
     "evalue": "list index out of range",
     "output_type": "error",
     "traceback": [
      "\u001b[0;31m---------------------------------------------------------------------------\u001b[0m",
      "\u001b[0;31mIndexError\u001b[0m                                Traceback (most recent call last)",
      "Input \u001b[0;32mIn [25]\u001b[0m, in \u001b[0;36m<cell line: 1>\u001b[0;34m()\u001b[0m\n\u001b[0;32m----> 1\u001b[0m \u001b[43mtests\u001b[49m\u001b[43m[\u001b[49m\u001b[38;5;241;43m5\u001b[39;49m\u001b[43m]\u001b[49m\n",
      "\u001b[0;31mIndexError\u001b[0m: list index out of range"
     ]
    }
   ],
   "source": [
    "tests[5]"
   ]
  },
  {
   "cell_type": "code",
   "execution_count": 26,
   "id": "fd7d9d95",
   "metadata": {},
   "outputs": [
    {
     "ename": "IndexError",
     "evalue": "list index out of range",
     "output_type": "error",
     "traceback": [
      "\u001b[0;31m---------------------------------------------------------------------------\u001b[0m",
      "\u001b[0;31mIndexError\u001b[0m                                Traceback (most recent call last)",
      "Input \u001b[0;32mIn [26]\u001b[0m, in \u001b[0;36m<cell line: 1>\u001b[0;34m()\u001b[0m\n\u001b[0;32m----> 1\u001b[0m evaluate_test_case(locate_card, \u001b[43mtests\u001b[49m\u001b[43m[\u001b[49m\u001b[38;5;241;43m5\u001b[39;49m\u001b[43m]\u001b[49m)\n",
      "\u001b[0;31mIndexError\u001b[0m: list index out of range"
     ]
    }
   ],
   "source": [
    "evaluate_test_case(locate_card, tests[5])"
   ]
  },
  {
   "cell_type": "code",
   "execution_count": 27,
   "id": "4fdc9900",
   "metadata": {},
   "outputs": [],
   "source": [
    "#using binary search algorithm\n",
    "\n",
    "def locate_card(cards, query):\n",
    "    \n",
    "    #initialize a low and high position variables\n",
    "    low = 0\n",
    "    high= len(cards)-1\n",
    "    \n",
    "    #setup the loop for repetition\n",
    "    while low <= high:\n",
    "        middle_index = (low+high)//2\n",
    "        middle_query = cards[middle_index]\n",
    "        \n",
    "        print(['low:', low, ',high:', high, ',middle_index:',middle_index, ',middle_query:',middle_query])\n",
    "                \n",
    "        if middle_query == query:\n",
    "            #if true we output the elements position\n",
    "            return middle_index\n",
    "        #else we check the next element\n",
    "        elif middle_query < query:\n",
    "            high = middle_index -1\n",
    "        elif middle_query > query:\n",
    "            low = middle_index +1\n",
    "    return -1"
   ]
  },
  {
   "cell_type": "code",
   "execution_count": 28,
   "id": "3a6294cb",
   "metadata": {},
   "outputs": [
    {
     "name": "stdout",
     "output_type": "stream",
     "text": [
      "\n",
      "Input:\n",
      "{'cards': [20, 17, 15, 12, 11, 7, 3, 2], 'query': 7}\n",
      "\n",
      "Expected Output:\n",
      "5\n",
      "\n",
      "['low:', 0, ',high:', 7, ',middle_index:', 3, ',middle_query:', 12]\n",
      "['low:', 4, ',high:', 7, ',middle_index:', 5, ',middle_query:', 7]\n",
      "\n",
      "Actual Output:\n",
      "5\n",
      "\n",
      "Execution Time:\n",
      "0.088 ms\n",
      "\n",
      "Test Result:\n",
      "\u001b[92mPASSED\u001b[0m\n",
      "\n",
      "\n",
      "Input:\n",
      "{'cards': [7, 5, 3, 2], 'query': 7}\n",
      "\n",
      "Expected Output:\n",
      "0\n",
      "\n",
      "['low:', 0, ',high:', 3, ',middle_index:', 1, ',middle_query:', 5]\n",
      "['low:', 0, ',high:', 0, ',middle_index:', 0, ',middle_query:', 7]\n",
      "\n",
      "Actual Output:\n",
      "0\n",
      "\n",
      "Execution Time:\n",
      "0.073 ms\n",
      "\n",
      "Test Result:\n",
      "\u001b[92mPASSED\u001b[0m\n",
      "\n",
      "\n",
      "Input:\n",
      "{'cards': [17, 15, 13, 7], 'query': 7}\n",
      "\n",
      "Expected Output:\n",
      "3\n",
      "\n",
      "['low:', 0, ',high:', 3, ',middle_index:', 1, ',middle_query:', 15]\n",
      "['low:', 2, ',high:', 3, ',middle_index:', 2, ',middle_query:', 13]\n",
      "['low:', 3, ',high:', 3, ',middle_index:', 3, ',middle_query:', 7]\n",
      "\n",
      "Actual Output:\n",
      "3\n",
      "\n",
      "Execution Time:\n",
      "0.099 ms\n",
      "\n",
      "Test Result:\n",
      "\u001b[92mPASSED\u001b[0m\n",
      "\n",
      "\n",
      "Input:\n",
      "{'cards': [], 'query': 7}\n",
      "\n",
      "Expected Output:\n",
      "-1\n",
      "\n",
      "\n",
      "Actual Output:\n",
      "-1\n",
      "\n",
      "Execution Time:\n",
      "0.007 ms\n",
      "\n",
      "Test Result:\n",
      "\u001b[92mPASSED\u001b[0m\n",
      "\n"
     ]
    }
   ],
   "source": [
    "for test in tests:    \n",
    "    evaluate_test_case(locate_card, test)"
   ]
  },
  {
   "cell_type": "code",
   "execution_count": 31,
   "id": "e84db0e9",
   "metadata": {},
   "outputs": [],
   "source": [
    "tests.append({\n",
    "    'input':{\n",
    "        'cards': [8, 7, 6, 6, 6, 6, 6, 5, 4, 3, 2],\n",
    "        'query': 6\n",
    "    },\n",
    "    'output':2\n",
    "})"
   ]
  },
  {
   "cell_type": "code",
   "execution_count": 32,
   "id": "f3589b6d",
   "metadata": {},
   "outputs": [
    {
     "data": {
      "text/plain": [
       "[{'input': {'cards': [20, 17, 15, 12, 11, 7, 3, 2], 'query': 7}, 'output': 5},\n",
       " {'input': {'cards': [7, 5, 3, 2], 'query': 7}, 'output': 0},\n",
       " {'input': {'cards': [17, 15, 13, 7], 'query': 7}, 'output': 3},\n",
       " {'input': {'cards': [], 'query': 7}, 'output': -1},\n",
       " {'input': {'card': [8, 7, 6, 6, 6, 6, 6, 5, 4, 3, 2], 'query': 6},\n",
       "  'output': 2},\n",
       " {'input': {'cards': [8, 7, 6, 6, 6, 6, 6, 5, 4, 3, 2], 'query': 6},\n",
       "  'output': 2}]"
      ]
     },
     "execution_count": 32,
     "metadata": {},
     "output_type": "execute_result"
    }
   ],
   "source": [
    "tests"
   ]
  },
  {
   "cell_type": "code",
   "execution_count": 33,
   "id": "c9c7a52b",
   "metadata": {},
   "outputs": [
    {
     "data": {
      "text/plain": [
       "{'input': {'cards': [8, 7, 6, 6, 6, 6, 6, 5, 4, 3, 2], 'query': 6},\n",
       " 'output': 2}"
      ]
     },
     "execution_count": 33,
     "metadata": {},
     "output_type": "execute_result"
    }
   ],
   "source": [
    "tests.pop()"
   ]
  },
  {
   "cell_type": "code",
   "execution_count": 34,
   "id": "98bf5f6a",
   "metadata": {},
   "outputs": [
    {
     "data": {
      "text/plain": [
       "{'input': {'card': [8, 7, 6, 6, 6, 6, 6, 5, 4, 3, 2], 'query': 6}, 'output': 2}"
      ]
     },
     "execution_count": 34,
     "metadata": {},
     "output_type": "execute_result"
    }
   ],
   "source": [
    "tests.pop()"
   ]
  },
  {
   "cell_type": "code",
   "execution_count": 35,
   "id": "27d050e0",
   "metadata": {},
   "outputs": [],
   "source": [
    "tests.append({\n",
    "    'input':{\n",
    "        'cards': [8, 7, 6, 6, 6, 6, 6, 5, 4, 3, 2],\n",
    "        'query': 6\n",
    "    },\n",
    "    'output':2\n",
    "})"
   ]
  },
  {
   "cell_type": "code",
   "execution_count": 36,
   "id": "e4480e01",
   "metadata": {},
   "outputs": [
    {
     "data": {
      "text/plain": [
       "[{'input': {'cards': [20, 17, 15, 12, 11, 7, 3, 2], 'query': 7}, 'output': 5},\n",
       " {'input': {'cards': [7, 5, 3, 2], 'query': 7}, 'output': 0},\n",
       " {'input': {'cards': [17, 15, 13, 7], 'query': 7}, 'output': 3},\n",
       " {'input': {'cards': [], 'query': 7}, 'output': -1},\n",
       " {'input': {'cards': [8, 7, 6, 6, 6, 6, 6, 5, 4, 3, 2], 'query': 6},\n",
       "  'output': 2}]"
      ]
     },
     "execution_count": 36,
     "metadata": {},
     "output_type": "execute_result"
    }
   ],
   "source": [
    "tests"
   ]
  },
  {
   "cell_type": "code",
   "execution_count": 39,
   "id": "3636ee7b",
   "metadata": {},
   "outputs": [],
   "source": [
    "#using binary search algorithm\n",
    "\n",
    "\n",
    "# adding a helper function to introduce logic of an edge case with multiple query occurence\n",
    "\n",
    "def dir_finder(cards, query, middle_index):\n",
    "    middle_query = cards[middle_index]\n",
    "    \n",
    "    print(['middle_index:',middle_index, ',middle_query:',middle_query])\n",
    "    \n",
    "    if middle_query == query:\n",
    "        if (middle_index - 1) >= 0 and cards[middle_index-1] == query:\n",
    "            return 'left'\n",
    "        else:\n",
    "            return 'found'\n",
    "    elif middle_query < query:\n",
    "        return 'left'\n",
    "    else:\n",
    "        return 'right'\n",
    "    \n",
    "\n",
    "def locate_card(cards, query):\n",
    "    \n",
    "    #initialize a low and high position variables\n",
    "    low = 0\n",
    "    high= len(cards)-1\n",
    "    \n",
    "    #setup the loop for repetition\n",
    "    while low <= high:\n",
    "        middle_index = (low+high)//2\n",
    "        \n",
    "        print(['low:', low, ',high:', high])\n",
    "        \n",
    "        direction = dir_finder(cards, query, middle_index)\n",
    "                \n",
    "        if direction == 'found':\n",
    "            #if true we output the elements position\n",
    "            return middle_index\n",
    "        #else we check the next element\n",
    "        elif direction == 'left':\n",
    "            high = middle_index -1\n",
    "        elif direction == 'right':\n",
    "            low = middle_index +1\n",
    "    return -1"
   ]
  },
  {
   "cell_type": "code",
   "execution_count": 40,
   "id": "327dc72f",
   "metadata": {
    "scrolled": true
   },
   "outputs": [
    {
     "name": "stdout",
     "output_type": "stream",
     "text": [
      "\n",
      "Input:\n",
      "{'cards': [20, 17, 15, 12, 11, 7, 3, 2], 'query': 7}\n",
      "\n",
      "Expected Output:\n",
      "5\n",
      "\n",
      "['low:', 0, ',high:', 7]\n",
      "['middle_index:', 3, ',middle_query:', 12]\n",
      "['low:', 4, ',high:', 7]\n",
      "['middle_index:', 5, ',middle_query:', 7]\n",
      "\n",
      "Actual Output:\n",
      "5\n",
      "\n",
      "Execution Time:\n",
      "0.09 ms\n",
      "\n",
      "Test Result:\n",
      "\u001b[92mPASSED\u001b[0m\n",
      "\n",
      "\n",
      "Input:\n",
      "{'cards': [7, 5, 3, 2], 'query': 7}\n",
      "\n",
      "Expected Output:\n",
      "0\n",
      "\n",
      "['low:', 0, ',high:', 3]\n",
      "['middle_index:', 1, ',middle_query:', 5]\n",
      "['low:', 0, ',high:', 0]\n",
      "['middle_index:', 0, ',middle_query:', 7]\n",
      "\n",
      "Actual Output:\n",
      "0\n",
      "\n",
      "Execution Time:\n",
      "0.07 ms\n",
      "\n",
      "Test Result:\n",
      "\u001b[92mPASSED\u001b[0m\n",
      "\n",
      "\n",
      "Input:\n",
      "{'cards': [17, 15, 13, 7], 'query': 7}\n",
      "\n",
      "Expected Output:\n",
      "3\n",
      "\n",
      "['low:', 0, ',high:', 3]\n",
      "['middle_index:', 1, ',middle_query:', 15]\n",
      "['low:', 2, ',high:', 3]\n",
      "['middle_index:', 2, ',middle_query:', 13]\n",
      "['low:', 3, ',high:', 3]\n",
      "['middle_index:', 3, ',middle_query:', 7]\n",
      "\n",
      "Actual Output:\n",
      "3\n",
      "\n",
      "Execution Time:\n",
      "0.095 ms\n",
      "\n",
      "Test Result:\n",
      "\u001b[92mPASSED\u001b[0m\n",
      "\n",
      "\n",
      "Input:\n",
      "{'cards': [], 'query': 7}\n",
      "\n",
      "Expected Output:\n",
      "-1\n",
      "\n",
      "\n",
      "Actual Output:\n",
      "-1\n",
      "\n",
      "Execution Time:\n",
      "0.004 ms\n",
      "\n",
      "Test Result:\n",
      "\u001b[92mPASSED\u001b[0m\n",
      "\n",
      "\n",
      "Input:\n",
      "{'cards': [8, 7, 6, 6, 6, 6, 6, 5, 4, 3, 2], 'query': 6}\n",
      "\n",
      "Expected Output:\n",
      "2\n",
      "\n",
      "['low:', 0, ',high:', 10]\n",
      "['middle_index:', 5, ',middle_query:', 6]\n",
      "['low:', 0, ',high:', 4]\n",
      "['middle_index:', 2, ',middle_query:', 6]\n",
      "\n",
      "Actual Output:\n",
      "2\n",
      "\n",
      "Execution Time:\n",
      "0.066 ms\n",
      "\n",
      "Test Result:\n",
      "\u001b[92mPASSED\u001b[0m\n",
      "\n"
     ]
    }
   ],
   "source": [
    "for test in tests:\n",
    "    evaluate_test_case(locate_card, test)"
   ]
  },
  {
   "cell_type": "code",
   "execution_count": null,
   "id": "47bca578",
   "metadata": {},
   "outputs": [],
   "source": []
  },
  {
   "cell_type": "code",
   "execution_count": null,
   "id": "8a78bf86",
   "metadata": {},
   "outputs": [],
   "source": []
  },
  {
   "cell_type": "code",
   "execution_count": null,
   "id": "9d9bd1af",
   "metadata": {},
   "outputs": [],
   "source": []
  },
  {
   "cell_type": "code",
   "execution_count": null,
   "id": "2fd60259",
   "metadata": {},
   "outputs": [],
   "source": []
  },
  {
   "cell_type": "code",
   "execution_count": null,
   "id": "3d12b8be",
   "metadata": {},
   "outputs": [],
   "source": []
  },
  {
   "cell_type": "code",
   "execution_count": null,
   "id": "d03be496",
   "metadata": {},
   "outputs": [],
   "source": []
  },
  {
   "cell_type": "code",
   "execution_count": null,
   "id": "90d07d4d",
   "metadata": {},
   "outputs": [],
   "source": []
  },
  {
   "cell_type": "code",
   "execution_count": null,
   "id": "2051fc12",
   "metadata": {},
   "outputs": [],
   "source": []
  },
  {
   "cell_type": "code",
   "execution_count": null,
   "id": "a24415a2",
   "metadata": {},
   "outputs": [],
   "source": []
  },
  {
   "cell_type": "code",
   "execution_count": null,
   "id": "58290d24",
   "metadata": {},
   "outputs": [],
   "source": []
  }
 ],
 "metadata": {
  "kernelspec": {
   "display_name": "Python 3 (ipykernel)",
   "language": "python",
   "name": "python3"
  },
  "language_info": {
   "codemirror_mode": {
    "name": "ipython",
    "version": 3
   },
   "file_extension": ".py",
   "mimetype": "text/x-python",
   "name": "python",
   "nbconvert_exporter": "python",
   "pygments_lexer": "ipython3",
   "version": "3.10.4"
  }
 },
 "nbformat": 4,
 "nbformat_minor": 5
}
